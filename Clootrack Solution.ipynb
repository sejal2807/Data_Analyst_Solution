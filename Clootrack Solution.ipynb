{
 "cells": [
  {
   "cell_type": "code",
   "execution_count": 69,
   "id": "f2571471",
   "metadata": {},
   "outputs": [
    {
     "name": "stderr",
     "output_type": "stream",
     "text": [
      "[nltk_data] Downloading package vader_lexicon to\n",
      "[nltk_data]     C:\\Users\\prem\\AppData\\Roaming\\nltk_data...\n",
      "[nltk_data]   Package vader_lexicon is already up-to-date!\n"
     ]
    },
    {
     "data": {
      "text/plain": [
       "True"
      ]
     },
     "execution_count": 69,
     "metadata": {},
     "output_type": "execute_result"
    }
   ],
   "source": [
    "import nltk\n",
    "nltk.download('vader_lexicon')"
   ]
  },
  {
   "cell_type": "code",
   "execution_count": 139,
   "id": "4c846ea7",
   "metadata": {},
   "outputs": [],
   "source": [
    "import pandas as pd\n",
    "import numpy as np\n",
    "import matplotlib.pyplot as plt\n",
    "from nltk.sentiment.vader import SentimentIntensityAnalyzer\n",
    "from nltk.tokenize import word_tokenize"
   ]
  },
  {
   "cell_type": "code",
   "execution_count": 140,
   "id": "b264c3ea",
   "metadata": {},
   "outputs": [],
   "source": [
    "df = pd.read_csv('Data Analyst - Test Data.csv')"
   ]
  },
  {
   "cell_type": "code",
   "execution_count": 141,
   "id": "80c26845",
   "metadata": {},
   "outputs": [
    {
     "data": {
      "text/html": [
       "<div>\n",
       "<style scoped>\n",
       "    .dataframe tbody tr th:only-of-type {\n",
       "        vertical-align: middle;\n",
       "    }\n",
       "\n",
       "    .dataframe tbody tr th {\n",
       "        vertical-align: top;\n",
       "    }\n",
       "\n",
       "    .dataframe thead th {\n",
       "        text-align: right;\n",
       "    }\n",
       "</style>\n",
       "<table border=\"1\" class=\"dataframe\">\n",
       "  <thead>\n",
       "    <tr style=\"text-align: right;\">\n",
       "      <th></th>\n",
       "      <th>Review</th>\n",
       "      <th>date</th>\n",
       "      <th>Location</th>\n",
       "    </tr>\n",
       "  </thead>\n",
       "  <tbody>\n",
       "    <tr>\n",
       "      <th>0</th>\n",
       "      <td>I was very impressed with the resort.\\n Great ...</td>\n",
       "      <td>2019/08/20</td>\n",
       "      <td>Sebastian</td>\n",
       "    </tr>\n",
       "    <tr>\n",
       "      <th>1</th>\n",
       "      <td>The rooms were nice the outside needs work als...</td>\n",
       "      <td>2019/08/20</td>\n",
       "      <td>Los Angeles</td>\n",
       "    </tr>\n",
       "    <tr>\n",
       "      <th>2</th>\n",
       "      <td>Great location! I have stayed at this hotel on...</td>\n",
       "      <td>2019/08/20</td>\n",
       "      <td>Georgia</td>\n",
       "    </tr>\n",
       "    <tr>\n",
       "      <th>3</th>\n",
       "      <td>The hotel was adequate for my stay. The strips...</td>\n",
       "      <td>2019/08/20</td>\n",
       "      <td>NaN</td>\n",
       "    </tr>\n",
       "    <tr>\n",
       "      <th>4</th>\n",
       "      <td>Great location, room was large and spacious. P...</td>\n",
       "      <td>2019/08/19</td>\n",
       "      <td>Palm Harbor</td>\n",
       "    </tr>\n",
       "    <tr>\n",
       "      <th>...</th>\n",
       "      <td>...</td>\n",
       "      <td>...</td>\n",
       "      <td>...</td>\n",
       "    </tr>\n",
       "    <tr>\n",
       "      <th>6443</th>\n",
       "      <td>·the staff were all so friendly. frank, the ch...</td>\n",
       "      <td>2019/07/12</td>\n",
       "      <td>United States of America</td>\n",
       "    </tr>\n",
       "    <tr>\n",
       "      <th>6444</th>\n",
       "      <td>·the internet barely worked or didn't work</td>\n",
       "      <td>2019/07/12</td>\n",
       "      <td>United States of America</td>\n",
       "    </tr>\n",
       "    <tr>\n",
       "      <th>6445</th>\n",
       "      <td>·the location was great.\\n \\n \\n \\n \\n ·the be...</td>\n",
       "      <td>2019/07/10</td>\n",
       "      <td>United States of America</td>\n",
       "    </tr>\n",
       "    <tr>\n",
       "      <th>6446</th>\n",
       "      <td>·we were early for check in and the staff was ...</td>\n",
       "      <td>2019/07/10</td>\n",
       "      <td>United States of America</td>\n",
       "    </tr>\n",
       "    <tr>\n",
       "      <th>6447</th>\n",
       "      <td>·staff, free coffee, location and activities.\\...</td>\n",
       "      <td>2019/07/10</td>\n",
       "      <td>United States of America</td>\n",
       "    </tr>\n",
       "  </tbody>\n",
       "</table>\n",
       "<p>6448 rows × 3 columns</p>\n",
       "</div>"
      ],
      "text/plain": [
       "                                                 Review        date  \\\n",
       "0     I was very impressed with the resort.\\n Great ...  2019/08/20   \n",
       "1     The rooms were nice the outside needs work als...  2019/08/20   \n",
       "2     Great location! I have stayed at this hotel on...  2019/08/20   \n",
       "3     The hotel was adequate for my stay. The strips...  2019/08/20   \n",
       "4     Great location, room was large and spacious. P...  2019/08/19   \n",
       "...                                                 ...         ...   \n",
       "6443  ·the staff were all so friendly. frank, the ch...  2019/07/12   \n",
       "6444         ·the internet barely worked or didn't work  2019/07/12   \n",
       "6445  ·the location was great.\\n \\n \\n \\n \\n ·the be...  2019/07/10   \n",
       "6446  ·we were early for check in and the staff was ...  2019/07/10   \n",
       "6447  ·staff, free coffee, location and activities.\\...  2019/07/10   \n",
       "\n",
       "                      Location  \n",
       "0                    Sebastian  \n",
       "1                  Los Angeles  \n",
       "2                      Georgia  \n",
       "3                          NaN  \n",
       "4                  Palm Harbor  \n",
       "...                        ...  \n",
       "6443  United States of America  \n",
       "6444  United States of America  \n",
       "6445  United States of America  \n",
       "6446  United States of America  \n",
       "6447  United States of America  \n",
       "\n",
       "[6448 rows x 3 columns]"
      ]
     },
     "execution_count": 141,
     "metadata": {},
     "output_type": "execute_result"
    }
   ],
   "source": [
    "df"
   ]
  },
  {
   "cell_type": "code",
   "execution_count": 142,
   "id": "43977d60",
   "metadata": {},
   "outputs": [
    {
     "data": {
      "text/plain": [
       "(6448, 3)"
      ]
     },
     "execution_count": 142,
     "metadata": {},
     "output_type": "execute_result"
    }
   ],
   "source": [
    "df.shape"
   ]
  },
  {
   "cell_type": "code",
   "execution_count": 143,
   "id": "65322022",
   "metadata": {},
   "outputs": [
    {
     "name": "stdout",
     "output_type": "stream",
     "text": [
      "<class 'pandas.core.frame.DataFrame'>\n",
      "RangeIndex: 6448 entries, 0 to 6447\n",
      "Data columns (total 3 columns):\n",
      " #   Column    Non-Null Count  Dtype \n",
      "---  ------    --------------  ----- \n",
      " 0   Review    6393 non-null   object\n",
      " 1   date      6448 non-null   object\n",
      " 2   Location  1711 non-null   object\n",
      "dtypes: object(3)\n",
      "memory usage: 151.2+ KB\n"
     ]
    }
   ],
   "source": [
    "df.info()"
   ]
  },
  {
   "cell_type": "code",
   "execution_count": 144,
   "id": "11d98a9e",
   "metadata": {},
   "outputs": [
    {
     "data": {
      "text/plain": [
       "4737"
      ]
     },
     "execution_count": 144,
     "metadata": {},
     "output_type": "execute_result"
    }
   ],
   "source": [
    "df['Location'].isnull().sum()"
   ]
  },
  {
   "cell_type": "code",
   "execution_count": 145,
   "id": "7d79912c",
   "metadata": {},
   "outputs": [
    {
     "data": {
      "text/plain": [
       "United States of America    116\n",
       "New York                     34\n",
       "California                   19\n",
       "San Jose                     19\n",
       "Canada                       16\n",
       "                           ... \n",
       "Halifax, N.S.                 1\n",
       "State College, PA             1\n",
       "Los ángeles , us              1\n",
       "Stroudsburg Pa US             1\n",
       "Trinidad and Tobago           1\n",
       "Name: Location, Length: 1082, dtype: int64"
      ]
     },
     "execution_count": 145,
     "metadata": {},
     "output_type": "execute_result"
    }
   ],
   "source": [
    "df['Location'].value_counts()"
   ]
  },
  {
   "cell_type": "code",
   "execution_count": 146,
   "id": "355d1741",
   "metadata": {},
   "outputs": [],
   "source": [
    "df['Review'] = df['Review'].str.replace('\\n','')"
   ]
  },
  {
   "cell_type": "code",
   "execution_count": 147,
   "id": "826b0edc",
   "metadata": {},
   "outputs": [
    {
     "data": {
      "text/html": [
       "<div>\n",
       "<style scoped>\n",
       "    .dataframe tbody tr th:only-of-type {\n",
       "        vertical-align: middle;\n",
       "    }\n",
       "\n",
       "    .dataframe tbody tr th {\n",
       "        vertical-align: top;\n",
       "    }\n",
       "\n",
       "    .dataframe thead th {\n",
       "        text-align: right;\n",
       "    }\n",
       "</style>\n",
       "<table border=\"1\" class=\"dataframe\">\n",
       "  <thead>\n",
       "    <tr style=\"text-align: right;\">\n",
       "      <th></th>\n",
       "      <th>Review</th>\n",
       "      <th>date</th>\n",
       "      <th>Location</th>\n",
       "    </tr>\n",
       "  </thead>\n",
       "  <tbody>\n",
       "    <tr>\n",
       "      <th>0</th>\n",
       "      <td>I was very impressed with the resort. Great st...</td>\n",
       "      <td>2019/08/20</td>\n",
       "      <td>Sebastian</td>\n",
       "    </tr>\n",
       "    <tr>\n",
       "      <th>1</th>\n",
       "      <td>The rooms were nice the outside needs work als...</td>\n",
       "      <td>2019/08/20</td>\n",
       "      <td>Los Angeles</td>\n",
       "    </tr>\n",
       "    <tr>\n",
       "      <th>2</th>\n",
       "      <td>Great location! I have stayed at this hotel on...</td>\n",
       "      <td>2019/08/20</td>\n",
       "      <td>Georgia</td>\n",
       "    </tr>\n",
       "    <tr>\n",
       "      <th>3</th>\n",
       "      <td>The hotel was adequate for my stay. The strips...</td>\n",
       "      <td>2019/08/20</td>\n",
       "      <td>NaN</td>\n",
       "    </tr>\n",
       "    <tr>\n",
       "      <th>4</th>\n",
       "      <td>Great location, room was large and spacious. P...</td>\n",
       "      <td>2019/08/19</td>\n",
       "      <td>Palm Harbor</td>\n",
       "    </tr>\n",
       "    <tr>\n",
       "      <th>...</th>\n",
       "      <td>...</td>\n",
       "      <td>...</td>\n",
       "      <td>...</td>\n",
       "    </tr>\n",
       "    <tr>\n",
       "      <th>6443</th>\n",
       "      <td>·the staff were all so friendly. frank, the ch...</td>\n",
       "      <td>2019/07/12</td>\n",
       "      <td>United States of America</td>\n",
       "    </tr>\n",
       "    <tr>\n",
       "      <th>6444</th>\n",
       "      <td>·the internet barely worked or didn't work</td>\n",
       "      <td>2019/07/12</td>\n",
       "      <td>United States of America</td>\n",
       "    </tr>\n",
       "    <tr>\n",
       "      <th>6445</th>\n",
       "      <td>·the location was great.     ·the bed was the ...</td>\n",
       "      <td>2019/07/10</td>\n",
       "      <td>United States of America</td>\n",
       "    </tr>\n",
       "    <tr>\n",
       "      <th>6446</th>\n",
       "      <td>·we were early for check in and the staff was ...</td>\n",
       "      <td>2019/07/10</td>\n",
       "      <td>United States of America</td>\n",
       "    </tr>\n",
       "    <tr>\n",
       "      <th>6447</th>\n",
       "      <td>·staff, free coffee, location and activities. ...</td>\n",
       "      <td>2019/07/10</td>\n",
       "      <td>United States of America</td>\n",
       "    </tr>\n",
       "  </tbody>\n",
       "</table>\n",
       "<p>6448 rows × 3 columns</p>\n",
       "</div>"
      ],
      "text/plain": [
       "                                                 Review        date  \\\n",
       "0     I was very impressed with the resort. Great st...  2019/08/20   \n",
       "1     The rooms were nice the outside needs work als...  2019/08/20   \n",
       "2     Great location! I have stayed at this hotel on...  2019/08/20   \n",
       "3     The hotel was adequate for my stay. The strips...  2019/08/20   \n",
       "4     Great location, room was large and spacious. P...  2019/08/19   \n",
       "...                                                 ...         ...   \n",
       "6443  ·the staff were all so friendly. frank, the ch...  2019/07/12   \n",
       "6444         ·the internet barely worked or didn't work  2019/07/12   \n",
       "6445  ·the location was great.     ·the bed was the ...  2019/07/10   \n",
       "6446  ·we were early for check in and the staff was ...  2019/07/10   \n",
       "6447  ·staff, free coffee, location and activities. ...  2019/07/10   \n",
       "\n",
       "                      Location  \n",
       "0                    Sebastian  \n",
       "1                  Los Angeles  \n",
       "2                      Georgia  \n",
       "3                          NaN  \n",
       "4                  Palm Harbor  \n",
       "...                        ...  \n",
       "6443  United States of America  \n",
       "6444  United States of America  \n",
       "6445  United States of America  \n",
       "6446  United States of America  \n",
       "6447  United States of America  \n",
       "\n",
       "[6448 rows x 3 columns]"
      ]
     },
     "execution_count": 147,
     "metadata": {},
     "output_type": "execute_result"
    }
   ],
   "source": [
    "df"
   ]
  },
  {
   "cell_type": "code",
   "execution_count": 148,
   "id": "f809281b",
   "metadata": {},
   "outputs": [],
   "source": [
    "df['Review'] = df['Review'].astype(str)"
   ]
  },
  {
   "cell_type": "code",
   "execution_count": null,
   "id": "6845a065",
   "metadata": {},
   "outputs": [],
   "source": [
    "1. PREDICTING SENTIMENT SCORE"
   ]
  },
  {
   "cell_type": "code",
   "execution_count": 149,
   "id": "f91a8f89",
   "metadata": {},
   "outputs": [],
   "source": [
    "analyzer = SentimentIntensityAnalyzer()\n",
    "df['sentiment_score'] = df['Review'].apply(lambda x: analyzer.polarity_scores(x)['compound'])"
   ]
  },
  {
   "cell_type": "code",
   "execution_count": 150,
   "id": "4cc146ab",
   "metadata": {},
   "outputs": [
    {
     "data": {
      "text/html": [
       "<div>\n",
       "<style scoped>\n",
       "    .dataframe tbody tr th:only-of-type {\n",
       "        vertical-align: middle;\n",
       "    }\n",
       "\n",
       "    .dataframe tbody tr th {\n",
       "        vertical-align: top;\n",
       "    }\n",
       "\n",
       "    .dataframe thead th {\n",
       "        text-align: right;\n",
       "    }\n",
       "</style>\n",
       "<table border=\"1\" class=\"dataframe\">\n",
       "  <thead>\n",
       "    <tr style=\"text-align: right;\">\n",
       "      <th></th>\n",
       "      <th>Review</th>\n",
       "      <th>date</th>\n",
       "      <th>Location</th>\n",
       "      <th>sentiment_score</th>\n",
       "    </tr>\n",
       "  </thead>\n",
       "  <tbody>\n",
       "    <tr>\n",
       "      <th>0</th>\n",
       "      <td>I was very impressed with the resort. Great st...</td>\n",
       "      <td>2019/08/20</td>\n",
       "      <td>Sebastian</td>\n",
       "      <td>0.9421</td>\n",
       "    </tr>\n",
       "    <tr>\n",
       "      <th>1</th>\n",
       "      <td>The rooms were nice the outside needs work als...</td>\n",
       "      <td>2019/08/20</td>\n",
       "      <td>Los Angeles</td>\n",
       "      <td>0.8360</td>\n",
       "    </tr>\n",
       "    <tr>\n",
       "      <th>2</th>\n",
       "      <td>Great location! I have stayed at this hotel on...</td>\n",
       "      <td>2019/08/20</td>\n",
       "      <td>Georgia</td>\n",
       "      <td>0.6588</td>\n",
       "    </tr>\n",
       "    <tr>\n",
       "      <th>3</th>\n",
       "      <td>The hotel was adequate for my stay. The strips...</td>\n",
       "      <td>2019/08/20</td>\n",
       "      <td>NaN</td>\n",
       "      <td>0.3634</td>\n",
       "    </tr>\n",
       "    <tr>\n",
       "      <th>4</th>\n",
       "      <td>Great location, room was large and spacious. P...</td>\n",
       "      <td>2019/08/19</td>\n",
       "      <td>Palm Harbor</td>\n",
       "      <td>0.9260</td>\n",
       "    </tr>\n",
       "    <tr>\n",
       "      <th>...</th>\n",
       "      <td>...</td>\n",
       "      <td>...</td>\n",
       "      <td>...</td>\n",
       "      <td>...</td>\n",
       "    </tr>\n",
       "    <tr>\n",
       "      <th>6443</th>\n",
       "      <td>·the staff were all so friendly. frank, the ch...</td>\n",
       "      <td>2019/07/12</td>\n",
       "      <td>United States of America</td>\n",
       "      <td>0.9716</td>\n",
       "    </tr>\n",
       "    <tr>\n",
       "      <th>6444</th>\n",
       "      <td>·the internet barely worked or didn't work</td>\n",
       "      <td>2019/07/12</td>\n",
       "      <td>United States of America</td>\n",
       "      <td>0.0000</td>\n",
       "    </tr>\n",
       "    <tr>\n",
       "      <th>6445</th>\n",
       "      <td>·the location was great.     ·the bed was the ...</td>\n",
       "      <td>2019/07/10</td>\n",
       "      <td>United States of America</td>\n",
       "      <td>0.2975</td>\n",
       "    </tr>\n",
       "    <tr>\n",
       "      <th>6446</th>\n",
       "      <td>·we were early for check in and the staff was ...</td>\n",
       "      <td>2019/07/10</td>\n",
       "      <td>United States of America</td>\n",
       "      <td>0.0000</td>\n",
       "    </tr>\n",
       "    <tr>\n",
       "      <th>6447</th>\n",
       "      <td>·staff, free coffee, location and activities. ...</td>\n",
       "      <td>2019/07/10</td>\n",
       "      <td>United States of America</td>\n",
       "      <td>0.0979</td>\n",
       "    </tr>\n",
       "  </tbody>\n",
       "</table>\n",
       "<p>6448 rows × 4 columns</p>\n",
       "</div>"
      ],
      "text/plain": [
       "                                                 Review        date  \\\n",
       "0     I was very impressed with the resort. Great st...  2019/08/20   \n",
       "1     The rooms were nice the outside needs work als...  2019/08/20   \n",
       "2     Great location! I have stayed at this hotel on...  2019/08/20   \n",
       "3     The hotel was adequate for my stay. The strips...  2019/08/20   \n",
       "4     Great location, room was large and spacious. P...  2019/08/19   \n",
       "...                                                 ...         ...   \n",
       "6443  ·the staff were all so friendly. frank, the ch...  2019/07/12   \n",
       "6444         ·the internet barely worked or didn't work  2019/07/12   \n",
       "6445  ·the location was great.     ·the bed was the ...  2019/07/10   \n",
       "6446  ·we were early for check in and the staff was ...  2019/07/10   \n",
       "6447  ·staff, free coffee, location and activities. ...  2019/07/10   \n",
       "\n",
       "                      Location  sentiment_score  \n",
       "0                    Sebastian           0.9421  \n",
       "1                  Los Angeles           0.8360  \n",
       "2                      Georgia           0.6588  \n",
       "3                          NaN           0.3634  \n",
       "4                  Palm Harbor           0.9260  \n",
       "...                        ...              ...  \n",
       "6443  United States of America           0.9716  \n",
       "6444  United States of America           0.0000  \n",
       "6445  United States of America           0.2975  \n",
       "6446  United States of America           0.0000  \n",
       "6447  United States of America           0.0979  \n",
       "\n",
       "[6448 rows x 4 columns]"
      ]
     },
     "execution_count": 150,
     "metadata": {},
     "output_type": "execute_result"
    }
   ],
   "source": [
    "df"
   ]
  },
  {
   "cell_type": "code",
   "execution_count": null,
   "id": "886669c2",
   "metadata": {},
   "outputs": [],
   "source": [
    "2. MONTHLY REVIEW FREQUENCY"
   ]
  },
  {
   "cell_type": "code",
   "execution_count": 151,
   "id": "bbaadf7d",
   "metadata": {},
   "outputs": [
    {
     "data": {
      "image/png": "[encoded data removed]",
      "text/plain": [
       "<Figure size 864x432 with 1 Axes>"
      ]
     },
     "metadata": {
      "needs_background": "light"
     },
     "output_type": "display_data"
    }
   ],
   "source": [
    "df['date']=pd.to_datetime(df['date'])\n",
    "review_frequency = df.resample('M',on='date').size()\n",
    "plt.figure(figsize=(12,6))\n",
    "plt.plot(review_frequency.index,review_frequency.values,marker='o',linestyle='-')\n",
    "plt.title('Monthly Review Frequency')\n",
    "plt.xlabel('Date')\n",
    "plt.ylabel('Number Of Reviews')\n",
    "plt.grid(True)\n",
    "plt.show()"
   ]
  },
  {
   "cell_type": "code",
   "execution_count": null,
   "id": "ce908acd",
   "metadata": {},
   "outputs": [],
   "source": [
    "3. LOCATION BASED INSIGHTS"
   ]
  },
  {
   "cell_type": "code",
   "execution_count": 152,
   "id": "f248fdf6",
   "metadata": {},
   "outputs": [
    {
     "name": "stdout",
     "output_type": "stream",
     "text": [
      "Location\n",
      "2186                                           0.4404\n",
      "Aalborg, Denmark                               0.8750\n",
      "Abbotsford BC                                  0.5859\n",
      "Agde                                           0.0000\n",
      "Aguadilla, P.R.                               -0.2960\n",
      "                                                ...  \n",
      "warwick ny                                     0.5267\n",
      "wyndham garden silicon valley ,san jose ca.   -0.2755\n",
      "yakima wa                                      0.9231\n",
      "大阪                                             0.0000\n",
      "東京                                             0.0000\n",
      "Name: sentiment_score, Length: 1082, dtype: float64\n"
     ]
    }
   ],
   "source": [
    "location_sentiment = df.groupby('Location')['sentiment_score'].mean()\n",
    "print(location_sentiment)"
   ]
  },
  {
   "cell_type": "code",
   "execution_count": null,
   "id": "5005d29b",
   "metadata": {},
   "outputs": [],
   "source": [
    "4. TOPIC MODELING"
   ]
  },
  {
   "cell_type": "code",
   "execution_count": 153,
   "id": "d5f831da",
   "metadata": {},
   "outputs": [
    {
     "name": "stdout",
     "output_type": "stream",
     "text": [
      "Topic 1: read, die, und, hotel, das, sehr, ist, et, zimmer\n",
      "Topic 2: read, hotel, staff, great, location, stay, clean, room, friendly\n",
      "Topic 3: read, room, hotel, nice, clean, good, rooms, location, great\n",
      "Topic 4: room, read, check, hotel, desk, night, didn, did, bed\n",
      "Topic 5: read, la, square, hotel, el, empire, en, que, state\n"
     ]
    }
   ],
   "source": [
    "from sklearn.feature_extraction.text import CountVectorizer\n",
    "from sklearn.decomposition import LatentDirichletAllocation\n",
    "\n",
    "vectorizer = CountVectorizer(max_df=0.95, min_df=2, stop_words='english')\n",
    "dtm = vectorizer.fit_transform(df['Review'])\n",
    "\n",
    "lda = LatentDirichletAllocation(n_components=num_topics, random_state=42)\n",
    "lda.fit(dtm)\n",
    "\n",
    "for topic_idx, topic in enumerate(lda.components_):\n",
    " top_words_idx = topic.argsort()[:-10:-1]\n",
    " top_words = [vectorizer.get_feature_names_out()[i] for i in top_words_idx]\n",
    " print(f\"Topic {topic_idx + 1}: {', '.join(top_words)}\")"
   ]
  },
  {
   "cell_type": "code",
   "execution_count": 154,
   "id": "27e1a11b",
   "metadata": {},
   "outputs": [
    {
     "name": "stdout",
     "output_type": "stream",
     "text": [
      "Topic Coherence Score: 0.524648861216565\n",
      "(0, '0.044*\"read\" + 0.022*\"less\" + 0.011*\"springs\" + 0.011*\"disney\" + 0.007*\"e\" + 0.005*\"gorgeous\" + 0.004*\"cafe\" + 0.004*\"exceeded\" + 0.004*\"per\" + 0.004*\"la\"')\n",
      "(1, '0.072*\"read\" + 0.036*\"less\" + 0.027*\"hotel\" + 0.023*\"great\" + 0.021*\"staff\" + 0.016*\"location\" + 0.015*\"room\" + 0.013*\"nice\" + 0.012*\"stay\" + 0.012*\"good\"')\n",
      "(2, '0.043*\"read\" + 0.022*\"less\" + 0.014*\"de\" + 0.009*\"die\" + 0.009*\"hotel\" + 0.008*\"und\" + 0.007*\"das\" + 0.006*\"en\" + 0.006*\"et\" + 0.006*\"sehr\"')\n",
      "(3, '0.040*\"read\" + 0.035*\"room\" + 0.021*\"less\" + 0.012*\"hotel\" + 0.008*\"one\" + 0.008*\"front\" + 0.008*\"desk\" + 0.007*\"like\" + 0.007*\"check\" + 0.007*\"us\"')\n",
      "(4, '0.038*\"read\" + 0.019*\"less\" + 0.017*\"de\" + 0.017*\"la\" + 0.015*\"el\" + 0.013*\"que\" + 0.012*\"muy\" + 0.011*\"hotel\" + 0.010*\"en\" + 0.007*\"las\"')\n"
     ]
    }
   ],
   "source": [
    "from gensim import corpora\n",
    "from gensim.models import LdaModel\n",
    "from gensim.models import CoherenceModel\n",
    "from nltk.corpus import stopwords\n",
    "import pandas as pd\n",
    "# Preprocess the text data\n",
    "stop_words = set(stopwords.words('english'))\n",
    "def preprocess_text(text):\n",
    " words = text.split() # You can split text into words instead of using NLTK's word_tokenize\n",
    " words = [word.lower() for word in words if word.isalpha() and word.lower() not in\n",
    " stop_words]\n",
    " return words\n",
    "df['processed_review'] = df['Review'].apply(preprocess_text)\n",
    "# Create a dictionary and a corpus\n",
    "dictionary = corpora.Dictionary(df['processed_review'])\n",
    "corpus = [dictionary.doc2bow(text) for text in df['processed_review']]\n",
    "# Define the number of topics to explore\n",
    "num_topics = 5\n",
    "# Tune LDA parameters\n",
    "lda_model = LdaModel(corpus, num_topics=num_topics, id2word=dictionary, passes=15,\n",
    "random_state=42)\n",
    "# Calculate topic coherence\n",
    "coherence_model = CoherenceModel(model=lda_model,\n",
    "texts=df['processed_review'], dictionary=dictionary, coherence='c_v')\n",
    "coherence_score = coherence_model.get_coherence()\n",
    "print(f'Topic Coherence Score: {coherence_score}')\n",
    "# Print topics\n",
    "topics = lda_model.print_topics(num_words=10)\n",
    "for topic in topics:\n",
    " print(topic)"
   ]
  },
  {
   "cell_type": "code",
   "execution_count": null,
   "id": "a7310b6a",
   "metadata": {},
   "outputs": [],
   "source": [
    "5. DISTRIBUTION OF REVIEW SENTIMENTS"
   ]
  },
  {
   "cell_type": "code",
   "execution_count": 155,
   "id": "3f222163",
   "metadata": {},
   "outputs": [
    {
     "data": {
      "image/png": "[encoded data removed]",
      "text/plain": [
       "<Figure size 576x360 with 1 Axes>"
      ]
     },
     "metadata": {
      "needs_background": "light"
     },
     "output_type": "display_data"
    }
   ],
   "source": [
    "sentiment_scores = df['sentiment_score']\n",
    "\n",
    "plt.figure(figsize=(8,5))\n",
    "plt.hist(sentiment_scores,bins=30,color='skyblue',edgecolor='black')\n",
    "plt.title('Distribution Of Review Sentiments')\n",
    "plt.xlabel('Sentiment_Score')\n",
    "plt.ylabel('Number Of Reviews')\n",
    "plt.show()"
   ]
  },
  {
   "cell_type": "code",
   "execution_count": null,
   "id": "1c3666c0",
   "metadata": {},
   "outputs": [],
   "source": []
  }
 ],
 "metadata": {
  "kernelspec": {
   "display_name": "Python 3 (ipykernel)",
   "language": "python",
   "name": "python3"
  },
  "language_info": {
   "codemirror_mode": {
    "name": "ipython",
    "version": 3
   },
   "file_extension": ".py",
   "mimetype": "text/x-python",
   "name": "python",
   "nbconvert_exporter": "python",
   "pygments_lexer": "ipython3",
   "version": "3.9.12"
  }
 },
 "nbformat": 4,
 "nbformat_minor": 5
}
